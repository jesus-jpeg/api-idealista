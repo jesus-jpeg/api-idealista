{
 "cells": [
  {
   "cell_type": "markdown",
   "id": "3e028490",
   "metadata": {},
   "source": [
    "# Práctica | Visualización de Datos\n",
    "## Usando la API de Idealista\n",
    "En este notebook vamos a llamar a la API de Idealsita para obtener los datos necesarios para el desarrollo del dashboard en Tabelau.\n",
    "\n",
    "Para ello, primero debemos adquirir nuestro apikey a través de la página web de Idealista."
   ]
  },
  {
   "cell_type": "code",
   "execution_count": null,
   "id": "f923bdf8",
   "metadata": {
    "scrolled": true
   },
   "outputs": [],
   "source": [
    "#Importamos librerías\n",
    "import requests\n",
    "import base64\n",
    "import pandas as pd\n",
    "import numpy as np\n",
    "import json\n",
    "import urllib.parse"
   ]
  },
  {
   "cell_type": "markdown",
   "id": "0597c4c6",
   "metadata": {},
   "source": [
    "### Ciudades a explorar:"
   ]
  },
  {
   "cell_type": "markdown",
   "id": "80f15385",
   "metadata": {},
   "source": [
    "Barcelona: 0-EU-ES-08-13\n",
    "Sagrada Familia: 0-EU-ES-08-13-001-019-02-005 (5 páginas)\n",
    "\n",
    "Madrid: 0-EU-ES-28-07\n",
    "Chamberí: 0-EU-ES-28-07-001-079-07 (31 páginas)\n",
    "\n",
    "El puerto: 0-EU-ES-11-01-002-027 (11 páginas)"
   ]
  },
  {
   "cell_type": "markdown",
   "id": "56262c6b",
   "metadata": {},
   "source": [
    "# Código\n",
    "A continuación tenemos el código a ejecutar para obtener nuestro token, para ello debemos reeemplazar las credenciales que no ha proporcionado Idealista:"
   ]
  },
  {
   "cell_type": "code",
   "execution_count": null,
   "id": "dfdacd6e",
   "metadata": {},
   "outputs": [],
   "source": [
    "# Tus credenciales\n",
    "client_id = 'xxxxx'\n",
    "client_secret = 'xxxxx'\n",
    "\n",
    "# Codificación base64 de \"client_id:client_secret\"\n",
    "credentials = f\"{client_id}:{client_secret}\"\n",
    "encoded_credentials = base64.b64encode(credentials.encode()).decode()\n",
    "\n",
    "# URL de autenticación\n",
    "url = \"https://api.idealista.com/oauth/token\"\n",
    "\n",
    "# Cuerpo de la solicitud (formato x-www-form-urlencoded)\n",
    "data = {\n",
    "    \"grant_type\": \"client_credentials\",\n",
    "    \"scope\": \"read\"\n",
    "}\n",
    "encoded_data = urllib.parse.urlencode(data)\n",
    "\n",
    "# Encabezados HTTP\n",
    "headers = {\n",
    "    \"Authorization\": f\"Basic {encoded_credentials}\",\n",
    "    \"Content-Type\": \"application/x-www-form-urlencoded;charset=UTF-8\"}\n",
    "\n",
    "# Hacer la solicitud POST\n",
    "response = requests.post(url, headers=headers, data=encoded_data)\n",
    "\n",
    "# Mostrar resultados\n",
    "if response.status_code == 200:\n",
    "    token_data = response.json()\n",
    "    print(\"✅ Access Token:\", token_data[\"access_token\"])\n",
    "    print(\"Token Type:\", token_data[\"token_type\"])\n",
    "    print(\"Expires In:\", token_data[\"expires_in\"], \"seconds\")\n",
    "    print(\"Scope:\", token_data[\"scope\"])\n",
    "else:\n",
    "    print(\"❌ Error:\", response.status_code)\n",
    "    print(\"Respuesta:\", response.text)"
   ]
  },
  {
   "cell_type": "markdown",
   "id": "c3ab1ee3",
   "metadata": {},
   "source": [
    "Ahora definimos la función para realizar nuestra búsqueda. Cambiaremos los valores a nuestro antojo."
   ]
  },
  {
   "cell_type": "code",
   "execution_count": null,
   "id": "683f84f1",
   "metadata": {},
   "outputs": [],
   "source": [
    "def define_search_url(page):\n",
    "    base_url = 'https://api.idealista.com/3.5/es/search'\n",
    "\n",
    "    params = {\n",
    "        \"operation\": \"sale\",                # o \"rent\"\n",
    "        \"maxItems\": \"50\",\n",
    "        \"center\": \"41.3851,2.1734\",         # coordenadas de Barcelona, por ejemplo\n",
    "        \"distance\": \"4000\",\n",
    "        \"propertyType\": \"homes\",\n",
    "        \"sort\": \"desc\",\n",
    "        \"numPage\": str(page),\n",
    "        \"language\": \"es\"\n",
    "    }\n",
    "\n",
    "    # Construir la URL completa con parámetros codificados\n",
    "    import urllib.parse\n",
    "    return base_url + \"?\" + urllib.parse.urlencode(params)"
   ]
  },
  {
   "cell_type": "markdown",
   "id": "71b95d11",
   "metadata": {},
   "source": [
    "A continución tenemos la función para llamar a la API:"
   ]
  },
  {
   "cell_type": "code",
   "execution_count": null,
   "id": "5e3e4928",
   "metadata": {},
   "outputs": [],
   "source": [
    "def search_api(page):\n",
    "    access_token = token_data[\"access_token\"]\n",
    "    token = access_token\n",
    "    url = \"https://api.idealista.com/3.5/es/search\"\n",
    "\n",
    "    headers = {\n",
    "        'Authorization': f'Bearer {token}',\n",
    "        'Content-Type': 'application/x-www-form-urlencoded'\n",
    "    }\n",
    "\n",
    "    data = {\n",
    "        \"operation\": \"sale\",\n",
    "        \"maxItems\": \"50\",\n",
    "        \"center\": \"41.3851,2.1734\",\n",
    "        \"distance\": \"4000\",\n",
    "        \"propertyType\": \"homes\",\n",
    "        \"sort\": \"desc\",\n",
    "        \"numPage\": str(page),\n",
    "        \"language\": \"es\"\n",
    "    }\n",
    "\n",
    "    response = requests.post(url, headers=headers, data=data)\n",
    "\n",
    "    print(\"Status:\", response.status_code)\n",
    "    print(\"Response URL:\", response.url)\n",
    "    print(\"Text:\", repr(response.text))\n",
    "\n",
    "    if response.status_code == 200:\n",
    "        return response.json()\n",
    "    else:\n",
    "        raise Exception(f\"❌ Error {response.status_code}: {response.text}\")"
   ]
  },
  {
   "cell_type": "markdown",
   "id": "39ff2869",
   "metadata": {},
   "source": [
    "Obtenemos la página 1 y el total de páginas:"
   ]
  },
  {
   "cell_type": "code",
   "execution_count": null,
   "id": "76ff5a7a",
   "metadata": {},
   "outputs": [],
   "source": [
    "pagination = 1\n",
    "results = search_api(1)\n",
    "results\n",
    "total_pages = results['totalPages']"
   ]
  },
  {
   "cell_type": "markdown",
   "id": "ac3daf06",
   "metadata": {},
   "source": [
    "Creamos funciones para concatenar las búsquedas realizadas en bucle:"
   ]
  },
  {
   "cell_type": "code",
   "execution_count": null,
   "id": "ef3ed4b1",
   "metadata": {},
   "outputs": [],
   "source": [
    "def results_to_df(results):\n",
    "    df = pd.DataFrame.from_dict(results['elementList'])\n",
    "    return df\n",
    "\n",
    "def concat_df(df, df_tot):\n",
    "    df_tot = pd.concat([df_tot, df])\n",
    "    return df_tot\n",
    "\n",
    "df = results_to_df(results)\n",
    "df_tot = pd.DataFrame()\n",
    "df_tot = concat_df(df, df_tot)"
   ]
  },
  {
   "cell_type": "markdown",
   "id": "56878b8c",
   "metadata": {},
   "source": [
    "Ejecutamos el bucle real donde iremos obteniendo registros de 50 en 50."
   ]
  },
  {
   "cell_type": "code",
   "execution_count": null,
   "id": "9b3d4fa7",
   "metadata": {},
   "outputs": [],
   "source": [
    "# Bucle de paginación\n",
    "for i in range(1, total_pages + 1):\n",
    "    url_page = define_search_url(i)  # Crear URL con número de página\n",
    "    results = search_api(url_page)   # Obtener resultados\n",
    "    df = results_to_df(results)      # Convertir a DataFrame\n",
    "    df_tot = concat_df(df, df_tot)   # Añadir al total\n",
    "               # Evitar límite de 1 req/segundo\n",
    "\n",
    "# Guardar CSV\n",
    "df_tot.to_csv(\"idealista.csv\", index=False)\n",
    "\n",
    "\n",
    "# Mostrar ruta y dataset\n",
    "print(\"CSV guardado\")\n",
    "df_tot.head()"
   ]
  },
  {
   "cell_type": "markdown",
   "id": "d4ce13a4",
   "metadata": {},
   "source": [
    "Aquí tendriamos listo nuestro dataset. En caso de que quisieramos obtener más datos repetiriamos el proceso cambiando la URL en la función previamente explicada."
   ]
  },
  {
   "cell_type": "markdown",
   "id": "d70f4ef1",
   "metadata": {},
   "source": [
    "## Limpieza del DataSet"
   ]
  },
  {
   "cell_type": "markdown",
   "id": "f2e6674d",
   "metadata": {},
   "source": [
    "Antes de visualizar nuestro dataset en Tableau, tendremos que hacer un poco de preprocessing. \n",
    "Vamos a seleccionar las columnas útiles, borrar duplicados y outliers."
   ]
  },
  {
   "cell_type": "code",
   "execution_count": null,
   "id": "21ee0f0c",
   "metadata": {},
   "outputs": [],
   "source": [
    "#Cargamos nuestro dataset generado\n",
    "df = pd.read_csv(\"idealista.csv\")\n",
    "df.head()  # Ver primeras filas"
   ]
  },
  {
   "cell_type": "code",
   "execution_count": null,
   "id": "2597595c",
   "metadata": {},
   "outputs": [],
   "source": [
    "df.shape  # Ver cuántas filas y columnas tiene"
   ]
  },
  {
   "cell_type": "code",
   "execution_count": null,
   "id": "60750aeb",
   "metadata": {},
   "outputs": [],
   "source": [
    "df = df[df[\"priceInfo\"].astype(str).str.contains(\"€/mes\")]\n",
    "\n",
    "# --- Selección de columnas útiles ---\n",
    "cols_base = [\n",
    "    \"price\", \"size\", \"rooms\", \"bathrooms\", \"propertyType\",\n",
    "    \"address\", \"neighborhood\", \"district\", \"municipality\", \"province\",\n",
    "    \"latitude\", \"longitude\", \"url\", \"zona\"\n",
    "]\n",
    "\n",
    "#Outliers\n",
    "Q1 = df[\"price\"].quantile(0.25)\n",
    "Q3 = df[\"price\"].quantile(0.75)\n",
    "IQR = Q3-Q1\n",
    "lower = Q1 - 1.5*IQR\n",
    "upper = Q3 + 1.5*IQR\n",
    "df=df[(df[\"price\"]>=lower) & (df[\"price\"]<=upper)]\n",
    "#Combinar todo\n",
    "df = df[cols_base]\n",
    "df_limpio=df.drop_duplicates()\n",
    "\n",
    "#Guardar CSV limpio\n",
    "df_limpio.to_csv(\"alquileres_limpio.csv\", index=False)\n",
    "print(\"✅ Dataset limpio guardado como 'todo_alquileres_limpio.csv'\")"
   ]
  },
  {
   "cell_type": "code",
   "execution_count": null,
   "id": "5dbed9fc",
   "metadata": {},
   "outputs": [],
   "source": [
    "df_limpio.head()"
   ]
  },
  {
   "cell_type": "code",
   "execution_count": null,
   "id": "feb292e4",
   "metadata": {},
   "outputs": [],
   "source": [
    "df_limpio.shape"
   ]
  },
  {
   "cell_type": "markdown",
   "id": "800a0b5f",
   "metadata": {},
   "source": [
    "Ya tendríamos nuestro dataset perfecto apra ser utilizado en Tableau."
   ]
  }
 ],
 "metadata": {
  "kernelspec": {
   "display_name": "Python 3 (ipykernel)",
   "language": "python",
   "name": "python3"
  },
  "language_info": {
   "codemirror_mode": {
    "name": "ipython",
    "version": 3
   },
   "file_extension": ".py",
   "mimetype": "text/x-python",
   "name": "python",
   "nbconvert_exporter": "python",
   "pygments_lexer": "ipython3",
   "version": "3.9.13"
  }
 },
 "nbformat": 4,
 "nbformat_minor": 5
}
